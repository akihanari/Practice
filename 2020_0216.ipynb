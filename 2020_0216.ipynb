{
  "cells": [
    {
      "cell_type": "markdown",
      "source": [
        "**リスト**<br>\n"
      ],
      "metadata": {}
    },
    {
      "cell_type": "code",
      "source": [
        "sample_list = [1, 2, 3, 4, 5]\n",
        "print(\"sample_list:\", sample_list)\n",
        "print(\"type:\", type(sample_list))\n",
        "print(\"sample_list[0]:\", sample_list[0])\n"
      ],
      "outputs": [],
      "execution_count": null,
      "metadata": {
        "collapsed": false,
        "outputHidden": false,
        "inputHidden": false
      }
    },
    {
      "cell_type": "markdown",
      "source": [
        "**タプル**<br>\n"
      ],
      "metadata": {}
    },
    {
      "cell_type": "code",
      "source": [
        "sample_tuple = (1, 2, 3, 4, 5)\n",
        "print(\"sample_tuple:\", sample_tuple)\n",
        "print(\"type:\", type(sample_tuple))\n",
        "print(\"sample_tuple[4]:\", sample_tuple[4])\n"
      ],
      "outputs": [],
      "execution_count": null,
      "metadata": {
        "collapsed": false,
        "outputHidden": false,
        "inputHidden": false
      }
    },
    {
      "cell_type": "markdown",
      "source": [
        "**ディクショナリ**<br>\n"
      ],
      "metadata": {}
    },
    {
      "cell_type": "code",
      "source": [
        "sample_dict = {100:\"apple:\", 200:\"orange\", 300:\"strawberry\"}\n",
        "print(\"sample_dict:\", sample_dict)\n",
        "print(\"type:\", type(sample_dict))\n",
        "print(\"sample_dict[200]:\", sample_dict[200])"
      ],
      "outputs": [],
      "execution_count": null,
      "metadata": {
        "collapsed": false,
        "outputHidden": false,
        "inputHidden": false
      }
    },
    {
      "cell_type": "code",
      "source": [
        "# **セット**<br>\n"
      ],
      "outputs": [],
      "execution_count": null,
      "metadata": {
        "collapsed": false,
        "outputHidden": false,
        "inputHidden": false
      }
    },
    {
      "cell_type": "code",
      "source": [
        "sample_set = {1, 2, 2, 3, 4, 5, 5, 5, 4}\n",
        "print(\"sample_set:\", sample_set)\n",
        "print(\"type:\", type(sample_set))"
      ],
      "outputs": [],
      "execution_count": null,
      "metadata": {
        "collapsed": false,
        "outputHidden": false,
        "inputHidden": false
      }
    },
    {
      "cell_type": "code",
      "source": [],
      "outputs": [],
      "execution_count": null,
      "metadata": {
        "collapsed": false,
        "outputHidden": false,
        "inputHidden": false
      }
    },
    {
      "cell_type": "markdown",
      "source": [
        "**リスト**<br>\n"
      ],
      "metadata": {}
    },
    {
      "cell_type": "code",
      "source": [
        "sample_list1 = []\n",
        "print(\"sample_list1:\", sample_list1, \"type:\",type(sample_list1))"
      ],
      "outputs": [],
      "execution_count": null,
      "metadata": {
        "collapsed": false,
        "outputHidden": false,
        "inputHidden": false
      }
    },
    {
      "cell_type": "code",
      "source": [
        "sample_list1.append(1)\n",
        "sample_list1.append(2)\n",
        "sample_list1.append(3)\n",
        "print(\"sample_list1:\", sample_list1)"
      ],
      "outputs": [],
      "execution_count": null,
      "metadata": {
        "collapsed": false,
        "outputHidden": false,
        "inputHidden": false
      }
    },
    {
      "cell_type": "code",
      "source": [
        "sample_list1.insert(0,0)\n",
        "print(\"sample_list1:\", sample_list1)"
      ],
      "outputs": [],
      "execution_count": null,
      "metadata": {
        "collapsed": false,
        "outputHidden": false,
        "inputHidden": false
      }
    },
    {
      "cell_type": "code",
      "source": [
        "sample_list1.remove(3)\n",
        "print(\"sample_list1:\", sample_list1)"
      ],
      "outputs": [],
      "execution_count": null,
      "metadata": {
        "collapsed": false,
        "outputHidden": false,
        "inputHidden": false
      }
    },
    {
      "cell_type": "code",
      "source": [
        "sample_list2 = sample_list1.copy() #新しいリストにコピー\n",
        "# print(\"sample_list2:\", sample_list2)\n",
        "print(\"sample_list1 is sample_list2:\", sample_list1 is sample_list2) #False"
      ],
      "outputs": [],
      "execution_count": null,
      "metadata": {
        "collapsed": false,
        "outputHidden": false,
        "inputHidden": false
      }
    },
    {
      "cell_type": "code",
      "source": [
        "sample_list3 = sample_list1 #リストの情報をコピー\n",
        "# print(\"sample_list3:\", sample_list3)\n",
        "print(\"sample_list1 is sample_list3:\", sample_list1 is sample_list3) #True"
      ],
      "outputs": [],
      "execution_count": null,
      "metadata": {
        "collapsed": false,
        "outputHidden": false,
        "inputHidden": false
      }
    },
    {
      "cell_type": "code",
      "source": [
        "sample_list4 = list(sample_list1) #新しいリストにコピー\n",
        "# print(\"sample_list4:\", sample_list4)\n",
        "print(\"sample_list1 is sample_list4:\", sample_list1 is sample_list4) #False"
      ],
      "outputs": [],
      "execution_count": null,
      "metadata": {
        "collapsed": false,
        "outputHidden": false,
        "inputHidden": false
      }
    },
    {
      "cell_type": "code",
      "source": [
        "#del sample_list1\n",
        "\n"
      ],
      "outputs": [],
      "execution_count": null,
      "metadata": {
        "collapsed": false,
        "outputHidden": false,
        "inputHidden": false
      }
    },
    {
      "cell_type": "code",
      "source": [],
      "outputs": [],
      "execution_count": null,
      "metadata": {
        "collapsed": false,
        "outputHidden": false,
        "inputHidden": false
      }
    }
  ],
  "metadata": {},
  "nbformat": 4,
  "nbformat_minor": 4
}