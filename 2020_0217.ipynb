{
  "cells": [
    {
      "cell_type": "markdown",
      "source": [
        "**コンプリヘンション（comprehension）**<br>\n",
        "**リスト内包表記**<br>\n",
        "**[式 for 変数 in リスト if 条件]**<br>\n"
      ],
      "metadata": {}
    },
    {
      "cell_type": "code",
      "source": [
        "sample_list1 = ['a', 'b', 'c', 'd', 'e']\n",
        "print(sample_list1)\n",
        "sample_list2 = [i*3 for i in sample_list1 if i >= 'c']\n",
        "print(sample_list2)\n"
      ],
      "outputs": [],
      "execution_count": null,
      "metadata": {
        "collapsed": false,
        "outputHidden": false,
        "inputHidden": false
      }
    },
    {
      "cell_type": "markdown",
      "source": [
        "**ディクショナリ内包表記**<br>\n",
        "**{式 : 式 for 変数 in リスト if 条件}**<br>\n"
      ],
      "metadata": {}
    },
    {
      "cell_type": "code",
      "source": [
        "sample_dict1 = {'a':100, 'b':120, 'c':200, 'd':300, 'e':400}\n",
        "print(sample_dict1)\n",
        "sample_dict2 = {i*3 for i in sample_dict1 if i >= 'c'}\n",
        "print(sample_dict2)\n"
      ],
      "outputs": [],
      "execution_count": null,
      "metadata": {
        "collapsed": false,
        "outputHidden": false,
        "inputHidden": false
      }
    },
    {
      "cell_type": "markdown",
      "source": [
        "**セット内包表記**<br>\n",
        "**{式 for 変数 in リスト if 条件}**<br>\n"
      ],
      "metadata": {}
    },
    {
      "cell_type": "code",
      "source": [
        "sample_set1 = {'a', 'b', 'c', 'd', 'e'}\n",
        "print(sample_set1)\n",
        "sample_set2 = {i*3 for i in sample_set1 if i >= 'c'}\n",
        "print(sample_set2)\n"
      ],
      "outputs": [],
      "execution_count": null,
      "metadata": {
        "collapsed": false,
        "outputHidden": false,
        "inputHidden": false
      }
    },
    {
      "cell_type": "markdown",
      "source": [
        "**タプル**<br>\n"
      ],
      "metadata": {}
    },
    {
      "cell_type": "code",
      "source": [
        "sample = ('a', 'b', 'c', 'd', 'e')\n",
        "print(\"sample:\", sample)\n",
        "print(\"type:\", type(sample))\n"
      ],
      "outputs": [],
      "execution_count": null,
      "metadata": {
        "collapsed": false,
        "outputHidden": false,
        "inputHidden": false
      }
    },
    {
      "cell_type": "code",
      "source": [
        "sample = () #中身が空\n",
        "print(\"sample:\", sample)\n",
        "print(\"type:\", type(sample))\n"
      ],
      "outputs": [],
      "execution_count": null,
      "metadata": {
        "collapsed": false,
        "outputHidden": false,
        "inputHidden": false
      }
    },
    {
      "cell_type": "code",
      "source": [
        "sample = ('a') #要素が1つだけの場合は後ろに','をつけないとタプルにならない\n",
        "print(\"sample:\", sample)\n",
        "print(\"type:\", type(sample))\n"
      ],
      "outputs": [],
      "execution_count": null,
      "metadata": {
        "collapsed": false,
        "outputHidden": false,
        "inputHidden": false
      }
    },
    {
      "cell_type": "code",
      "source": [
        "sample = ('a',) #要素が1つだけの場合は後ろに','をつける\n",
        "print(\"sample:\", sample)\n",
        "print(\"type:\", type(sample))\n"
      ],
      "outputs": [],
      "execution_count": null,
      "metadata": {
        "collapsed": false,
        "outputHidden": false,
        "inputHidden": false
      }
    },
    {
      "cell_type": "code",
      "source": [
        "sample = 'a', #()を省略\n",
        "print(\"sample:\", sample)\n",
        "print(\"type:\", type(sample))\n"
      ],
      "outputs": [],
      "execution_count": null,
      "metadata": {
        "collapsed": false,
        "outputHidden": false,
        "inputHidden": false
      }
    },
    {
      "cell_type": "code",
      "source": [
        "sample = list(['a', 'b', 'c']) #タプル⇒リスト\n",
        "print(\"sample:\", sample)\n",
        "print(\"type:\", type(sample))\n"
      ],
      "outputs": [],
      "execution_count": null,
      "metadata": {
        "collapsed": false,
        "outputHidden": false,
        "inputHidden": false
      }
    },
    {
      "cell_type": "code",
      "source": [
        "sample = tuple(['a', 'b', 'c']) #リスト⇒タプル\n",
        "print(\"sample:\", sample)\n",
        "print(\"type:\", type(sample))\n"
      ],
      "outputs": [],
      "execution_count": null,
      "metadata": {
        "collapsed": false,
        "outputHidden": false,
        "inputHidden": false
      }
    },
    {
      "cell_type": "code",
      "source": [
        "sample = ('a', 'b', 'c', 'd', 'e')\n",
        "print(\"sample:\", sample)\n",
        "print(\"type:\", type(sample))\n",
        "print(\"sample[0]:\", sample[0]) #インデックスを指定して要素を取り出す\n",
        "print(\"type:\", type(sample[0]))\n"
      ],
      "outputs": [],
      "execution_count": null,
      "metadata": {
        "collapsed": false,
        "outputHidden": false,
        "inputHidden": false
      }
    },
    {
      "cell_type": "code",
      "source": [
        "sample = 'a', 'b', 'c'\n",
        "print(type(sample))\n",
        "for a in enumerate(sample):\n",
        "    print(\"a:\", a)\n",
        "\n"
      ],
      "outputs": [],
      "execution_count": null,
      "metadata": {
        "collapsed": false,
        "outputHidden": false,
        "inputHidden": false
      }
    },
    {
      "cell_type": "code",
      "source": [
        "sample = ('a', 'b', 'c', 'd', 'e')\n",
        "print(sample)\n",
        "print(sample[2:5:2]) #タプル名[開始:終了:ステップ(間隔)]\n",
        "\n"
      ],
      "outputs": [],
      "execution_count": null,
      "metadata": {
        "collapsed": false,
        "outputHidden": false,
        "inputHidden": false
      }
    },
    {
      "cell_type": "code",
      "source": [],
      "outputs": [],
      "execution_count": null,
      "metadata": {
        "collapsed": false,
        "outputHidden": false,
        "inputHidden": false
      }
    },
    {
      "cell_type": "code",
      "source": [],
      "outputs": [],
      "execution_count": null,
      "metadata": {
        "collapsed": false,
        "outputHidden": false,
        "inputHidden": false
      }
    },
    {
      "cell_type": "code",
      "source": [],
      "outputs": [],
      "execution_count": null,
      "metadata": {
        "collapsed": false,
        "outputHidden": false,
        "inputHidden": false
      }
    },
    {
      "cell_type": "code",
      "source": [],
      "outputs": [],
      "execution_count": null,
      "metadata": {
        "collapsed": false,
        "outputHidden": false,
        "inputHidden": false
      }
    },
    {
      "cell_type": "code",
      "source": [],
      "outputs": [],
      "execution_count": null,
      "metadata": {
        "collapsed": false,
        "outputHidden": false,
        "inputHidden": false
      }
    },
    {
      "cell_type": "code",
      "source": [],
      "outputs": [],
      "execution_count": null,
      "metadata": {
        "collapsed": false,
        "outputHidden": false,
        "inputHidden": false
      }
    },
    {
      "cell_type": "code",
      "source": [],
      "outputs": [],
      "execution_count": null,
      "metadata": {
        "collapsed": false,
        "outputHidden": false,
        "inputHidden": false
      }
    },
    {
      "cell_type": "code",
      "source": [],
      "outputs": [],
      "execution_count": null,
      "metadata": {
        "collapsed": false,
        "outputHidden": false,
        "inputHidden": false
      }
    }
  ],
  "metadata": {},
  "nbformat": 4,
  "nbformat_minor": 4
}